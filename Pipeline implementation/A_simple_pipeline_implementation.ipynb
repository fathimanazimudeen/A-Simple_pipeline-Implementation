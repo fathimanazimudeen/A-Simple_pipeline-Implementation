{
 "cells": [
  {
   "cell_type": "code",
   "execution_count": 1,
   "metadata": {},
   "outputs": [],
   "source": [
    "log = open('example_log.txt') # to take log lines from file 'example_log.txt' which contains each client request sent to a running web server in a client-server model."
   ]
  },
  {
   "cell_type": "code",
   "execution_count": 2,
   "metadata": {},
   "outputs": [
    {
     "data": {
      "text/plain": [
       "['200.155.108.44 - - [30/Nov/2017:11:59:54 +0000] \"PUT /categories/categories/categories HTTP/1.1\" 401 963 \"http://www.yates.com/list/tags/category/\" \"Mozilla/5.0 (Windows CE) AppleWebKit/5332 (KHTML, like Gecko) Chrome/13.0.864.0 Safari/5332\"\\n',\n",
       " '36.139.255.202 - - [30/Nov/2017:11:59:54 +0000] \"PUT /search HTTP/1.1\" 404 171 \"https://www.butler.org/main/tag/category/home.php\" \"Mozilla/5.0 (Macintosh; PPC Mac OS X 10_5_0) AppleWebKit/5332 (KHTML, like Gecko) Chrome/15.0.813.0 Safari/5332\"\\n',\n",
       " '50.112.115.219 - - [30/Nov/2017:11:59:54 +0000] \"POST /main/blog HTTP/1.1\" 404 743 \"http://deleon-bender.com/categories/category.html\" \"Mozilla/5.0 (Macintosh; Intel Mac OS X 10_5_5 rv:2.0; apn-IN) AppleWebKit/531.48.1 (KHTML, like Gecko) Version/4.0 Safari/531.48.1\"\\n',\n",
       " '204.132.56.4 - - [30/Nov/2017:11:59:54 +0000] \"POST /list HTTP/1.1\" 404 761 \"http://smith.com/category.htm\" \"Opera/9.39.(Windows 98; Win 9x 4.90; mn-MN) Presto/2.9.163 Version/12.00\"\\n',\n",
       " '233.154.7.24 - - [30/Nov/2017:11:59:54 +0000] \"GET /app HTTP/1.1\" 404 526 \"http://www.cherry.com/main.htm\" \"Mozilla/5.0 (X11; Linux x86_64) AppleWebKit/5360 (KHTML, like Gecko) Chrome/13.0.839.0 Safari/5360\"\\n']"
      ]
     },
     "execution_count": 2,
     "metadata": {},
     "output_type": "execute_result"
    }
   ],
   "source": [
    "lines = [line for line in log]\n",
    "lines[:5] # to view first 5 lines"
   ]
  },
  {
   "cell_type": "code",
   "execution_count": 3,
   "metadata": {},
   "outputs": [
    {
     "data": {
      "text/plain": [
       "10000"
      ]
     },
     "execution_count": 3,
     "metadata": {},
     "output_type": "execute_result"
    }
   ],
   "source": [
    "len(lines) # to find the number of lines in this log file"
   ]
  },
  {
   "cell_type": "code",
   "execution_count": 4,
   "metadata": {},
   "outputs": [
    {
     "data": {
      "text/plain": [
       "'200.155.108.44 - - [30/Nov/2017:11:59:54 +0000] \"PUT /categories/categories/categories HTTP/1.1\" 401 963 \"http://www.yates.com/list/tags/category/\" \"Mozilla/5.0 (Windows CE) AppleWebKit/5332 (KHTML, like Gecko) Chrome/13.0.864.0 Safari/5332\"\\n'"
      ]
     },
     "execution_count": 4,
     "metadata": {},
     "output_type": "execute_result"
    }
   ],
   "source": [
    "lines[0] # to view first line "
   ]
  },
  {
   "cell_type": "code",
   "execution_count": 2,
   "metadata": {},
   "outputs": [],
   "source": [
    "# implementing parse function to split each line and then extracts the fields. Data cleaning is also performed along with this.\n",
    "from datetime import datetime\n",
    "\n",
    "def strip_quotes(x):     #to remove unnecessary double quotes in some fields\n",
    "    return x.replace('\"','')\n",
    "\n",
    "def parse_time(time_str):\n",
    "    \"\"\"\n",
    "    Parses time in the format [30/Nov/2017:11:59:54 +0000]\n",
    "    to a datetime object.\n",
    "    \"\"\"\n",
    "    time_obj = datetime.strptime(time_str, '[%d/%b/%Y:%H:%M:%S %z]')\n",
    "    return time_obj\n",
    "\n",
    "def parse_log(log):\n",
    "    for line in log:\n",
    "        split_line = line.split()\n",
    "        remote_addr = split_line[0]\n",
    "        time_local = parse_time(split_line[3] + \" \" + split_line[4])\n",
    "        request_type = strip_quotes(split_line[5])\n",
    "        request_path = split_line[6]\n",
    "        status = int(split_line[8])\n",
    "        body_bytes_sent = int(split_line[9])\n",
    "        http_referrer = strip_quotes(split_line[10])\n",
    "        http_user_agent = strip_quotes(\" \".join(split_line[11:]))\n",
    "        yield (\n",
    "            remote_addr, time_local, request_type, request_path,\n",
    "            status, body_bytes_sent, http_referrer, http_user_agent\n",
    "        )"
   ]
  },
  {
   "cell_type": "code",
   "execution_count": 3,
   "metadata": {},
   "outputs": [],
   "source": [
    "import itertools ,csv\n",
    "# function to save the lines into a csv file along with header names for the columns\n",
    "def build_csv(lines,header = None, file=None):\n",
    "    if header:\n",
    "        lines = itertools.chain([header],lines)\n",
    "    \n",
    "    writer = csv.writer(file)\n",
    "    for line in lines:\n",
    "        writer.writerow(line)\n",
    "    file.seek(0)\n",
    "    return file"
   ]
  },
  {
   "cell_type": "code",
   "execution_count": 4,
   "metadata": {},
   "outputs": [],
   "source": [
    "#function to count the unique request types in the log file.output is a dictionary showing unique request types and its count.\n",
    "def count_unique_request(csv_file):\n",
    "    reader = csv.reader(csv_file)\n",
    "    header = next(reader)\n",
    "    idx = header.index('request_type')\n",
    "    \n",
    "    uniques = {}\n",
    "    for line in reader:\n",
    "        if not uniques.get(line[idx]):\n",
    "            uniques[line[idx]] = 0\n",
    "        uniques[line[idx]] += 1\n",
    "   # print(uniques)    \n",
    "    return uniques"
   ]
  },
  {
   "cell_type": "code",
   "execution_count": 5,
   "metadata": {},
   "outputs": [
    {
     "name": "stdout",
     "output_type": "stream",
     "text": [
      "unique_request_count:  {'PUT': 3367, 'POST': 3299, 'GET': 3334}\n"
     ]
    }
   ],
   "source": [
    "import io\n",
    "    \n",
    "log = open('example_log.txt')\n",
    "class Pipeline:\n",
    "    def __init__(self):\n",
    "        self.tasks = []\n",
    "        \n",
    "    def task(self, depends_on=None):\n",
    "        idx = 0\n",
    "        if depends_on:\n",
    "            idx = self.tasks.index(depends_on) + 1\n",
    "        def inner(f):\n",
    "            self.tasks.insert(idx, f)\n",
    "            return f\n",
    "        return inner\n",
    "    \n",
    "    def run(self, input_):\n",
    "        output = input_\n",
    "        for task in self.tasks:\n",
    "            output = task(output)\n",
    "        return output\n",
    "    \n",
    "pipeline = Pipeline()\n",
    "\n",
    "@pipeline.task()\n",
    "def parse_logs(logs):\n",
    "    return parse_log(logs)\n",
    "\n",
    "@pipeline.task(depends_on=parse_logs)  \n",
    "def build_raw_csv(lines):\n",
    "    csvfile = open('temporary.csv', 'w+', newline='')\n",
    "    return build_csv(lines, header=[\n",
    "        'ip', 'time_local', 'request_type',\n",
    "        'request_path', 'status', 'bytes_sent',\n",
    "        'http_referrer', 'http_user_agent'\n",
    "    ],\n",
    "    file=csvfile)\n",
    "\n",
    "@pipeline.task(depends_on=build_raw_csv)\n",
    "def count_uniques(csv_file):\n",
    "    return count_unique_request(csv_file)\n",
    "\n",
    "log = open('example_log.txt')\n",
    "unique_request_count = pipeline.run(log)\n",
    "print('unique_request_count: ',unique_request_count)"
   ]
  },
  {
   "cell_type": "code",
   "execution_count": 193,
   "metadata": {},
   "outputs": [
    {
     "data": {
      "text/plain": [
       "[<function __main__.parse_logs(logs)>,\n",
       " <function __main__.build_raw_csv(lines)>,\n",
       " <function __main__.count_uniques(csv_file)>]"
      ]
     },
     "execution_count": 193,
     "metadata": {},
     "output_type": "execute_result"
    }
   ],
   "source": [
    "pipeline.tasks # to view the tasks in order"
   ]
  },
  {
   "cell_type": "code",
   "execution_count": 6,
   "metadata": {},
   "outputs": [
    {
     "data": {
      "text/html": [
       "<div>\n",
       "<style scoped>\n",
       "    .dataframe tbody tr th:only-of-type {\n",
       "        vertical-align: middle;\n",
       "    }\n",
       "\n",
       "    .dataframe tbody tr th {\n",
       "        vertical-align: top;\n",
       "    }\n",
       "\n",
       "    .dataframe thead th {\n",
       "        text-align: right;\n",
       "    }\n",
       "</style>\n",
       "<table border=\"1\" class=\"dataframe\">\n",
       "  <thead>\n",
       "    <tr style=\"text-align: right;\">\n",
       "      <th></th>\n",
       "      <th>ip</th>\n",
       "      <th>time_local</th>\n",
       "      <th>request_type</th>\n",
       "      <th>request_path</th>\n",
       "      <th>status</th>\n",
       "      <th>bytes_sent</th>\n",
       "      <th>http_referrer</th>\n",
       "      <th>http_user_agent</th>\n",
       "    </tr>\n",
       "  </thead>\n",
       "  <tbody>\n",
       "    <tr>\n",
       "      <td>0</td>\n",
       "      <td>200.155.108.44</td>\n",
       "      <td>2017-11-30 11:59:54+00:00</td>\n",
       "      <td>PUT</td>\n",
       "      <td>/categories/categories/categories</td>\n",
       "      <td>401</td>\n",
       "      <td>963</td>\n",
       "      <td>http://www.yates.com/list/tags/category/</td>\n",
       "      <td>Mozilla/5.0 (Windows CE) AppleWebKit/5332 (KHT...</td>\n",
       "    </tr>\n",
       "    <tr>\n",
       "      <td>1</td>\n",
       "      <td>36.139.255.202</td>\n",
       "      <td>2017-11-30 11:59:54+00:00</td>\n",
       "      <td>PUT</td>\n",
       "      <td>/search</td>\n",
       "      <td>404</td>\n",
       "      <td>171</td>\n",
       "      <td>https://www.butler.org/main/tag/category/home.php</td>\n",
       "      <td>Mozilla/5.0 (Macintosh; PPC Mac OS X 10_5_0) A...</td>\n",
       "    </tr>\n",
       "    <tr>\n",
       "      <td>2</td>\n",
       "      <td>50.112.115.219</td>\n",
       "      <td>2017-11-30 11:59:54+00:00</td>\n",
       "      <td>POST</td>\n",
       "      <td>/main/blog</td>\n",
       "      <td>404</td>\n",
       "      <td>743</td>\n",
       "      <td>http://deleon-bender.com/categories/category.html</td>\n",
       "      <td>Mozilla/5.0 (Macintosh; Intel Mac OS X 10_5_5 ...</td>\n",
       "    </tr>\n",
       "    <tr>\n",
       "      <td>3</td>\n",
       "      <td>204.132.56.4</td>\n",
       "      <td>2017-11-30 11:59:54+00:00</td>\n",
       "      <td>POST</td>\n",
       "      <td>/list</td>\n",
       "      <td>404</td>\n",
       "      <td>761</td>\n",
       "      <td>http://smith.com/category.htm</td>\n",
       "      <td>Opera/9.39.(Windows 98; Win 9x 4.90; mn-MN) Pr...</td>\n",
       "    </tr>\n",
       "    <tr>\n",
       "      <td>4</td>\n",
       "      <td>233.154.7.24</td>\n",
       "      <td>2017-11-30 11:59:54+00:00</td>\n",
       "      <td>GET</td>\n",
       "      <td>/app</td>\n",
       "      <td>404</td>\n",
       "      <td>526</td>\n",
       "      <td>http://www.cherry.com/main.htm</td>\n",
       "      <td>Mozilla/5.0 (X11; Linux x86_64) AppleWebKit/53...</td>\n",
       "    </tr>\n",
       "  </tbody>\n",
       "</table>\n",
       "</div>"
      ],
      "text/plain": [
       "               ip                 time_local request_type  \\\n",
       "0  200.155.108.44  2017-11-30 11:59:54+00:00          PUT   \n",
       "1  36.139.255.202  2017-11-30 11:59:54+00:00          PUT   \n",
       "2  50.112.115.219  2017-11-30 11:59:54+00:00         POST   \n",
       "3    204.132.56.4  2017-11-30 11:59:54+00:00         POST   \n",
       "4    233.154.7.24  2017-11-30 11:59:54+00:00          GET   \n",
       "\n",
       "                        request_path  status  bytes_sent  \\\n",
       "0  /categories/categories/categories     401         963   \n",
       "1                            /search     404         171   \n",
       "2                         /main/blog     404         743   \n",
       "3                              /list     404         761   \n",
       "4                               /app     404         526   \n",
       "\n",
       "                                       http_referrer  \\\n",
       "0           http://www.yates.com/list/tags/category/   \n",
       "1  https://www.butler.org/main/tag/category/home.php   \n",
       "2  http://deleon-bender.com/categories/category.html   \n",
       "3                      http://smith.com/category.htm   \n",
       "4                     http://www.cherry.com/main.htm   \n",
       "\n",
       "                                     http_user_agent  \n",
       "0  Mozilla/5.0 (Windows CE) AppleWebKit/5332 (KHT...  \n",
       "1  Mozilla/5.0 (Macintosh; PPC Mac OS X 10_5_0) A...  \n",
       "2  Mozilla/5.0 (Macintosh; Intel Mac OS X 10_5_5 ...  \n",
       "3  Opera/9.39.(Windows 98; Win 9x 4.90; mn-MN) Pr...  \n",
       "4  Mozilla/5.0 (X11; Linux x86_64) AppleWebKit/53...  "
      ]
     },
     "execution_count": 6,
     "metadata": {},
     "output_type": "execute_result"
    }
   ],
   "source": [
    "import pandas as pd\n",
    "new = pd.read_csv('temporary.csv')\n",
    "new.head()"
   ]
  },
  {
   "cell_type": "code",
   "execution_count": null,
   "metadata": {},
   "outputs": [],
   "source": []
  }
 ],
 "metadata": {
  "kernelspec": {
   "display_name": "Python 3",
   "language": "python",
   "name": "python3"
  },
  "language_info": {
   "codemirror_mode": {
    "name": "ipython",
    "version": 3
   },
   "file_extension": ".py",
   "mimetype": "text/x-python",
   "name": "python",
   "nbconvert_exporter": "python",
   "pygments_lexer": "ipython3",
   "version": "3.7.4"
  }
 },
 "nbformat": 4,
 "nbformat_minor": 2
}
